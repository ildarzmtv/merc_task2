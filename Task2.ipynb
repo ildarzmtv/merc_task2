{
 "cells": [
  {
   "cell_type": "markdown",
   "id": "9aa5c7b6-eaa7-4925-b10d-8ad0a62b66b6",
   "metadata": {},
   "source": [
    "# Task 2\n",
    "---\n",
    "Clustering\n",
    "\n",
    "[Kaggle](https://www.kaggle.com/imakash3011/customer-personality-analysis)"
   ]
  },
  {
   "cell_type": "code",
   "execution_count": null,
   "id": "ad0488f5-4c58-4675-b16c-a75cc15642ec",
   "metadata": {},
   "outputs": [],
   "source": []
  }
 ],
 "metadata": {
  "kernelspec": {
   "display_name": "Python 3",
   "language": "python",
   "name": "python3"
  },
  "language_info": {
   "codemirror_mode": {
    "name": "ipython",
    "version": 3
   },
   "file_extension": ".py",
   "mimetype": "text/x-python",
   "name": "python",
   "nbconvert_exporter": "python",
   "pygments_lexer": "ipython3",
   "version": "3.8.8"
  }
 },
 "nbformat": 4,
 "nbformat_minor": 5
}
